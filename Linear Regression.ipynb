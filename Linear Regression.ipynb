{
 "cells": [
  {
   "cell_type": "code",
   "execution_count": 2,
   "id": "309a2042",
   "metadata": {},
   "outputs": [
    {
     "data": {
      "text/html": [
       "<div>\n",
       "<style scoped>\n",
       "    .dataframe tbody tr th:only-of-type {\n",
       "        vertical-align: middle;\n",
       "    }\n",
       "\n",
       "    .dataframe tbody tr th {\n",
       "        vertical-align: top;\n",
       "    }\n",
       "\n",
       "    .dataframe thead th {\n",
       "        text-align: right;\n",
       "    }\n",
       "</style>\n",
       "<table border=\"1\" class=\"dataframe\">\n",
       "  <thead>\n",
       "    <tr style=\"text-align: right;\">\n",
       "      <th></th>\n",
       "      <th>X</th>\n",
       "      <th>Y</th>\n",
       "    </tr>\n",
       "  </thead>\n",
       "  <tbody>\n",
       "    <tr>\n",
       "      <th>0</th>\n",
       "      <td>5.5277</td>\n",
       "      <td>9.13020</td>\n",
       "    </tr>\n",
       "    <tr>\n",
       "      <th>1</th>\n",
       "      <td>8.5186</td>\n",
       "      <td>13.66200</td>\n",
       "    </tr>\n",
       "    <tr>\n",
       "      <th>2</th>\n",
       "      <td>7.0032</td>\n",
       "      <td>11.85400</td>\n",
       "    </tr>\n",
       "    <tr>\n",
       "      <th>3</th>\n",
       "      <td>5.8598</td>\n",
       "      <td>6.82330</td>\n",
       "    </tr>\n",
       "    <tr>\n",
       "      <th>4</th>\n",
       "      <td>8.3829</td>\n",
       "      <td>11.88600</td>\n",
       "    </tr>\n",
       "    <tr>\n",
       "      <th>...</th>\n",
       "      <td>...</td>\n",
       "      <td>...</td>\n",
       "    </tr>\n",
       "    <tr>\n",
       "      <th>91</th>\n",
       "      <td>5.8707</td>\n",
       "      <td>7.20290</td>\n",
       "    </tr>\n",
       "    <tr>\n",
       "      <th>92</th>\n",
       "      <td>5.3054</td>\n",
       "      <td>1.98690</td>\n",
       "    </tr>\n",
       "    <tr>\n",
       "      <th>93</th>\n",
       "      <td>8.2934</td>\n",
       "      <td>0.14454</td>\n",
       "    </tr>\n",
       "    <tr>\n",
       "      <th>94</th>\n",
       "      <td>13.3940</td>\n",
       "      <td>9.05510</td>\n",
       "    </tr>\n",
       "    <tr>\n",
       "      <th>95</th>\n",
       "      <td>5.4369</td>\n",
       "      <td>0.61705</td>\n",
       "    </tr>\n",
       "  </tbody>\n",
       "</table>\n",
       "<p>96 rows × 2 columns</p>\n",
       "</div>"
      ],
      "text/plain": [
       "          X         Y\n",
       "0    5.5277   9.13020\n",
       "1    8.5186  13.66200\n",
       "2    7.0032  11.85400\n",
       "3    5.8598   6.82330\n",
       "4    8.3829  11.88600\n",
       "..      ...       ...\n",
       "91   5.8707   7.20290\n",
       "92   5.3054   1.98690\n",
       "93   8.2934   0.14454\n",
       "94  13.3940   9.05510\n",
       "95   5.4369   0.61705\n",
       "\n",
       "[96 rows x 2 columns]"
      ]
     },
     "execution_count": 2,
     "metadata": {},
     "output_type": "execute_result"
    }
   ],
   "source": [
    "import pandas as pd\n",
    "import numpy as np\n",
    "import matplotlib.pyplot as plt\n",
    "data=pd.read_csv('Food-Truck(For Linear Regression Program) (1).csv')\n",
    "columns=['X','Y']\n",
    "data.columns=columns\n",
    "data"
   ]
  },
  {
   "cell_type": "code",
   "execution_count": 9,
   "id": "57e3447d",
   "metadata": {},
   "outputs": [],
   "source": [
    "Y=data['Y']\n",
    "X=data['X']\n",
    "def plot_regression_line(x, y, b):\n",
    "   \n",
    "    plt.scatter(x, y, marker = \"o\", s = 30)\n",
    "  \n",
    "\n",
    "    y_pred = b[0] + b[1]*x\n",
    "  \n",
    "\n",
    "    plt.plot(x, y_pred, color = \"g\")\n",
    "\n",
    "    plt.xlabel('x')\n",
    "    plt.ylabel('y')\n",
    "  \n",
    "   \n",
    "    plt.show()\n",
    "    plt.scatter(X,Y)"
   ]
  },
  {
   "cell_type": "code",
   "execution_count": 10,
   "id": "a17a9751",
   "metadata": {},
   "outputs": [
    {
     "name": "stdout",
     "output_type": "stream",
     "text": [
      "96\n",
      "1433.4508245398954\n",
      "1739.5603117330625\n",
      "Value of c  and m are:\n",
      "-4.211504005424093 1.2135472539083587\n",
      "Green line is predicted Ycap against original X values\n"
     ]
    },
    {
     "data": {
      "image/png": "[encoded data removed]",
      "text/plain": [
       "<Figure size 432x288 with 1 Axes>"
      ]
     },
     "metadata": {
      "needs_background": "light"
     },
     "output_type": "display_data"
    },
    {
     "data": {
      "image/png": "[encoded data removed]",
      "text/plain": [
       "<Figure size 432x288 with 1 Axes>"
      ]
     },
     "metadata": {
      "needs_background": "light"
     },
     "output_type": "display_data"
    }
   ],
   "source": [
    "def calc_coef(X,Y):\n",
    "    s=np.size(X)\n",
    "    print(s)\n",
    "    m_x = np.mean(X)\n",
    "    m_y = np.mean(Y)\n",
    "    i=0\n",
    "    ssxy=0\n",
    "    ssxx=0\n",
    "    for i in range(s):\n",
    "        \n",
    "        ssxy+=(X[i]-m_x)*(Y[i]-m_y)\n",
    "        ssxx+=(X[i]-m_x)*(X[i]-m_x)\n",
    "        \n",
    "    m=ssxy/ssxx\n",
    "    \n",
    "    c=m_y-m*m_x\n",
    "    print(ssxx)\n",
    "    print(ssxy)\n",
    "    \n",
    "    return (c,m)\n",
    "coeff=calc_coef(X,Y)\n",
    "coeff\n",
    "print(\"Value of c  and m are:\")\n",
    "print(coeff[0],coeff[1])\n",
    "print(\"Green line is predicted Ycap against original X values\")\n",
    "plot_regression_line(X,Y,coeff)"
   ]
  },
  {
   "cell_type": "code",
   "execution_count": 11,
   "id": "ff819969",
   "metadata": {},
   "outputs": [
    {
     "name": "stdout",
     "output_type": "stream",
     "text": [
      "          X         Y\n",
      "X  1.000000  0.872157\n",
      "Y  0.872157  1.000000\n"
     ]
    },
    {
     "data": {
      "image/png": "[encoded data removed]",
      "text/plain": [
       "<Figure size 432x288 with 1 Axes>"
      ]
     },
     "metadata": {
      "needs_background": "light"
     },
     "output_type": "display_data"
    }
   ],
   "source": [
    "def y_pred(m,c,X):\n",
    "   \n",
    "    s=np.size(X)\n",
    "    Ycap=[0]*s\n",
    "    i=0\n",
    "    for i in range(s):\n",
    "        Ycap[i]=m*X[i]+c\n",
    "        \n",
    " \n",
    "    return Ycap\n",
    "Ycap=y_pred(coeff[1],coeff[0],X)\n",
    "plt.plot(X,Ycap)\n",
    "print(data.corr())\n",
    "\n",
    "\n",
    "\n",
    "def sse(Y,Ycap):\n",
    "    s=np.size(Y)\n",
    "    i=0\n",
    "    sse1=0\n",
    "    for i in range(s):\n",
    "        sse1+=(Y[i]-Ycap[i])**2\n",
    "        \n",
    "    return sse1\n",
    "        "
   ]
  },
  {
   "cell_type": "code",
   "execution_count": 13,
   "id": "550c3306",
   "metadata": {},
   "outputs": [
    {
     "name": "stdout",
     "output_type": "stream",
     "text": [
      "Sum Squared Error\n",
      "664.2397254063368\n",
      "Mean Squared Error\n",
      "6.919163806316008\n"
     ]
    }
   ],
   "source": [
    "def mse(Y,Ycap):\n",
    "    s=np.size(Y)\n",
    "    i=0\n",
    "    sse2=0\n",
    "    for i in range(s):\n",
    "        sse2+=(Y[i]-Ycap[i])**2\n",
    "        \n",
    "    return sse2/s\n",
    "sse1=sse(Y,Ycap)\n",
    "mse1=mse(Y,Ycap)\n",
    "print(\"Sum Squared Error\")\n",
    "print(sse1)\n",
    "print(\"Mean Squared Error\")\n",
    "print(mse1)"
   ]
  },
  {
   "cell_type": "code",
   "execution_count": 15,
   "id": "7c6220d1",
   "metadata": {},
   "outputs": [
    {
     "name": "stdout",
     "output_type": "stream",
     "text": [
      "R squared :\n",
      "0.7606583419339853\n"
     ]
    }
   ],
   "source": [
    "def rsqr(Y,Ycap):\n",
    "    s=np.size(Y)\n",
    "    i=0\n",
    "    m_y=np.mean(Y)\n",
    "    ssr=0\n",
    "    sst=0\n",
    "    for i in range(s):\n",
    "        ssr+=(Ycap[i]-m_y)**2\n",
    "        sst+=(Y[i]-m_y)**2\n",
    "        \n",
    "    return ssr/sst\n",
    "print(\"R squared :\")\n",
    "print(rsqr(Y,Ycap))  "
   ]
  },
  {
   "cell_type": "code",
   "execution_count": null,
   "id": "8db3363d",
   "metadata": {},
   "outputs": [],
   "source": []
  }
 ],
 "metadata": {
  "kernelspec": {
   "display_name": "Python 3 (ipykernel)",
   "language": "python",
   "name": "python3"
  },
  "language_info": {
   "codemirror_mode": {
    "name": "ipython",
    "version": 3
   },
   "file_extension": ".py",
   "mimetype": "text/x-python",
   "name": "python",
   "nbconvert_exporter": "python",
   "pygments_lexer": "ipython3",
   "version": "3.9.7"
  }
 },
 "nbformat": 4,
 "nbformat_minor": 5
}
